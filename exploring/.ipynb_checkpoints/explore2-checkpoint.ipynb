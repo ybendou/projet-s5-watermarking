{
 "cells": [
  {
   "cell_type": "code",
   "execution_count": null,
   "metadata": {},
   "outputs": [],
   "source": [
    "import cv2\n",
    "import numpy as np\n",
    "\n",
    "# load image\n",
    "img = cv2.imread(\"../data/text1.jpg\")\n",
    "\n",
    "# convert to gray\n",
    "gray = cv2.cvtColor(img, cv2.COLOR_BGR2GRAY)\n",
    "\n",
    "# threshold the grayscale image\n",
    "thresh = cv2.threshold(gray, 0, 255, cv2.THRESH_BINARY_INV + cv2.THRESH_OTSU)[1]\n",
    "\n",
    "# use morphology erode to blur horizontally\n",
    "kernel = cv2.getStructuringElement(cv2.MORPH_RECT, (151, 3))\n",
    "morph = cv2.morphologyEx(thresh, cv2.MORPH_DILATE, kernel)\n",
    "\n",
    "# use morphology open to remove thin lines from dotted lines\n",
    "kernel = cv2.getStructuringElement(cv2.MORPH_RECT, (3, 17))\n",
    "morph = cv2.morphologyEx(morph, cv2.MORPH_OPEN, kernel)\n",
    "\n",
    "# find contours\n",
    "cntrs = cv2.findContours(morph, cv2.RETR_EXTERNAL, cv2.CHAIN_APPROX_SIMPLE)\n",
    "cntrs = cntrs[0] if len(cntrs) == 2 else cntrs[1]\n",
    "\n",
    "# find the topmost box\n",
    "ythresh = 1000000\n",
    "for c in cntrs:\n",
    "    box = cv2.boundingRect(c)\n",
    "    x,y,w,h = box\n",
    "    if y < ythresh:\n",
    "        topbox = box\n",
    "        ythresh = y\n",
    "\n",
    "# Draw contours excluding the topmost box\n",
    "result = img.copy()\n",
    "for c in cntrs:\n",
    "    box = cv2.boundingRect(c)\n",
    "    if box != topbox:\n",
    "        x,y,w,h = box\n",
    "        cv2.rectangle(result, (x, y), (x+w, y+h), (0, 0, 255), 2)\n",
    "\n",
    "# write result to disk\n",
    "cv2.imwrite(\"text_above_lines_threshold.png\", thresh)\n",
    "cv2.imwrite(\"text_above_lines_morph.png\", morph)\n",
    "cv2.imwrite(\"text_above_lines_lines.jpg\", result)\n",
    "\n",
    "#cv2.imshow(\"GRAY\", gray)\n",
    "cv2.imshow(\"THRESH\", thresh)\n",
    "cv2.imshow(\"MORPH\", morph)\n",
    "cv2.imshow(\"RESULT\", result)\n",
    "cv2.waitKey(0)\n",
    "cv2.destroyAllWindows()"
   ]
  },
  {
   "cell_type": "code",
   "execution_count": null,
   "metadata": {},
   "outputs": [],
   "source": []
  }
 ],
 "metadata": {
  "kernelspec": {
   "display_name": "venv",
   "language": "python",
   "name": "venv"
  },
  "language_info": {
   "codemirror_mode": {
    "name": "ipython",
    "version": 3
   },
   "file_extension": ".py",
   "mimetype": "text/x-python",
   "name": "python",
   "nbconvert_exporter": "python",
   "pygments_lexer": "ipython3",
   "version": "3.7.9"
  }
 },
 "nbformat": 4,
 "nbformat_minor": 4
}
